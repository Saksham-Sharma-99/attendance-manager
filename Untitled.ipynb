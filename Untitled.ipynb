{
 "cells": [
  {
   "cell_type": "code",
   "execution_count": 75,
   "metadata": {},
   "outputs": [],
   "source": [
    "import pyautogui as pg\n",
    "import os\n",
    "import time\n",
    "import pandas as pd\n",
    "from pandas import DataFrame\n",
    "from datetime import datetime , timedelta"
   ]
  },
  {
   "cell_type": "code",
   "execution_count": 116,
   "metadata": {},
   "outputs": [
    {
     "data": {
      "text/html": [
       "<div>\n",
       "<style scoped>\n",
       "    .dataframe tbody tr th:only-of-type {\n",
       "        vertical-align: middle;\n",
       "    }\n",
       "\n",
       "    .dataframe tbody tr th {\n",
       "        vertical-align: top;\n",
       "    }\n",
       "\n",
       "    .dataframe thead th {\n",
       "        text-align: right;\n",
       "    }\n",
       "</style>\n",
       "<table border=\"1\" class=\"dataframe\">\n",
       "  <thead>\n",
       "    <tr style=\"text-align: right;\">\n",
       "      <th></th>\n",
       "      <th>Day</th>\n",
       "      <th>Class_Name</th>\n",
       "      <th>Time</th>\n",
       "    </tr>\n",
       "  </thead>\n",
       "  <tbody>\n",
       "    <tr>\n",
       "      <th>0</th>\n",
       "      <td>Thursday</td>\n",
       "      <td>EEN-112</td>\n",
       "      <td>01:40 AM-02:40 AM</td>\n",
       "    </tr>\n",
       "    <tr>\n",
       "      <th>1</th>\n",
       "      <td>Thursday</td>\n",
       "      <td>EEN-112</td>\n",
       "      <td>02:30 AM-03:30 AM</td>\n",
       "    </tr>\n",
       "  </tbody>\n",
       "</table>\n",
       "</div>"
      ],
      "text/plain": [
       "        Day Class_Name               Time\n",
       "0  Thursday    EEN-112  01:40 AM-02:40 AM\n",
       "1  Thursday    EEN-112  02:30 AM-03:30 AM"
      ]
     },
     "execution_count": 116,
     "metadata": {},
     "output_type": "execute_result"
    }
   ],
   "source": [
    "filePath = 'open /Applications/Microsoft\\ Teams.app'\n",
    "openingTime = 30\n",
    "timeTable = pd.read_csv('test.csv')\n",
    "\n",
    "right = pg.size().width\n",
    "left = 0\n",
    "top = 0\n",
    "bottom = pg.size().height\n",
    "timeTable"
   ]
  },
  {
   "cell_type": "code",
   "execution_count": 117,
   "metadata": {},
   "outputs": [],
   "source": [
    "today = datetime.today().strftime('%A')"
   ]
  },
  {
   "cell_type": "code",
   "execution_count": 124,
   "metadata": {},
   "outputs": [],
   "source": [
    "classes = DataFrame(timeTable,columns=['Class_Name','Time'])\n",
    "indices = [day for day in timeTable['Day']]\n",
    "classes.index = indices\n",
    "classes.index.name = 'Day'"
   ]
  },
  {
   "cell_type": "code",
   "execution_count": 149,
   "metadata": {},
   "outputs": [
    {
     "name": "stdout",
     "output_type": "stream",
     "text": [
      "01:46 AM-02:46 AM\n"
     ]
    },
    {
     "data": {
      "text/plain": [
       "{'Class_Name': Series([], Name: Class_Name, dtype: object),\n",
       " 'Time': Series([], Name: Time, dtype: object)}"
      ]
     },
     "execution_count": 149,
     "metadata": {},
     "output_type": "execute_result"
    }
   ],
   "source": [
    "timeStart = (datetime.today() +timedelta(minutes = 5)).strftime('%I:%M %p')\n",
    "timeEnd = (datetime.now() + timedelta(hours = 1) +timedelta(minutes = 5)).strftime('%I:%M %p')\n",
    "\n",
    "lectures = classes.loc[today]\n",
    "currentLec = lectures[lectures['Time']==('01:41 AM-02:40 AM')]\n",
    "print(timeStart+'-'+timeEnd)\n",
    "dict(currentLec)"
   ]
  },
  {
   "cell_type": "code",
   "execution_count": 127,
   "metadata": {},
   "outputs": [
    {
     "data": {
      "text/html": [
       "<div>\n",
       "<style scoped>\n",
       "    .dataframe tbody tr th:only-of-type {\n",
       "        vertical-align: middle;\n",
       "    }\n",
       "\n",
       "    .dataframe tbody tr th {\n",
       "        vertical-align: top;\n",
       "    }\n",
       "\n",
       "    .dataframe thead th {\n",
       "        text-align: right;\n",
       "    }\n",
       "</style>\n",
       "<table border=\"1\" class=\"dataframe\">\n",
       "  <thead>\n",
       "    <tr style=\"text-align: right;\">\n",
       "      <th></th>\n",
       "      <th>Class_Name</th>\n",
       "      <th>Time</th>\n",
       "    </tr>\n",
       "    <tr>\n",
       "      <th>Day</th>\n",
       "      <th></th>\n",
       "      <th></th>\n",
       "    </tr>\n",
       "  </thead>\n",
       "  <tbody>\n",
       "    <tr>\n",
       "      <th>Thursday</th>\n",
       "      <td>EEN-112</td>\n",
       "      <td>01:40 AM-02:40 AM</td>\n",
       "    </tr>\n",
       "  </tbody>\n",
       "</table>\n",
       "</div>"
      ],
      "text/plain": [
       "         Class_Name               Time\n",
       "Day                                   \n",
       "Thursday    EEN-112  01:40 AM-02:40 AM"
      ]
     },
     "execution_count": 127,
     "metadata": {},
     "output_type": "execute_result"
    }
   ],
   "source": [
    "currentLec"
   ]
  },
  {
   "cell_type": "code",
   "execution_count": null,
   "metadata": {},
   "outputs": [],
   "source": []
  },
  {
   "cell_type": "code",
   "execution_count": null,
   "metadata": {},
   "outputs": [],
   "source": []
  },
  {
   "cell_type": "code",
   "execution_count": null,
   "metadata": {},
   "outputs": [],
   "source": [
    "\n",
    "        "
   ]
  },
  {
   "cell_type": "code",
   "execution_count": null,
   "metadata": {},
   "outputs": [],
   "source": [
    "def openTeams():\n",
    "    os.system(filePath)\n",
    "    pg.moveTo(right-80 , 16)\n",
    "\n",
    "\n",
    "def locateClass():\n",
    "    print('class')\n",
    "\n",
    "\n",
    "\n",
    "def locateMeeting():\n",
    "    time.sleep(openingTime)\n",
    "    pg.click(right-80 , 10)\n",
    "    for i in range(10):\n",
    "        pg.hotkey('tab')\n",
    "        print(\"tab\")"
   ]
  }
 ],
 "metadata": {
  "kernelspec": {
   "display_name": "Python 3",
   "language": "python",
   "name": "python3"
  },
  "language_info": {
   "codemirror_mode": {
    "name": "ipython",
    "version": 3
   },
   "file_extension": ".py",
   "mimetype": "text/x-python",
   "name": "python",
   "nbconvert_exporter": "python",
   "pygments_lexer": "ipython3",
   "version": "3.8.3"
  }
 },
 "nbformat": 4,
 "nbformat_minor": 4
}
